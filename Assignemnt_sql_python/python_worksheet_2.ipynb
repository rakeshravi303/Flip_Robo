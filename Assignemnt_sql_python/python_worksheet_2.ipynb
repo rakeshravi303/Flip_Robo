{
 "cells": [
  {
   "cell_type": "markdown",
   "metadata": {},
   "source": [
    "1. Write a python program to solve a quadratic equation of the form 𝑎𝑥\n",
    "2 + 𝑏𝑥 + 𝑐 = 0. Where a, b and c are to\n",
    "be taken by user input. Handle the erroneous input, such as ‘a’ should not be equal to 0."
   ]
  },
  {
   "cell_type": "code",
   "execution_count": 1,
   "metadata": {},
   "outputs": [],
   "source": [
    "from math import sqrt\n",
    "\n",
    "def get_quad_fn():\n",
    "    a = float(input(\"a: \"))\n",
    "    b = float(input(\"b: \"))\n",
    "    c = float(input(\"c: \"))\n",
    "    if a!=0:\n",
    "        r = b**2 - 4*a*c\n",
    "        if r > 0:\n",
    "            num_roots = 2\n",
    "            x1 = (((-b) + sqrt(r))/(2*a))     \n",
    "            x2 = (((-b) - sqrt(r))/(2*a))\n",
    "            print(\"There are 2 roots: %f and %f\" % (x1, x2))\n",
    "        elif r == 0:\n",
    "            num_roots = 1\n",
    "            x = (-b) / 2*a\n",
    "            print(\"There is one root: \", x)\n",
    "    else:\n",
    "        num_roots = 0\n",
    "        print(\"a cannot be <=0, please re-enter.\")\n",
    "        get_quad_fn()\n",
    "        "
   ]
  },
  {
   "cell_type": "code",
   "execution_count": null,
   "metadata": {},
   "outputs": [
    {
     "name": "stdout",
     "output_type": "stream",
     "text": [
      "a: 0\n",
      "b: 10\n",
      "c: 5\n",
      "a cannot be <=0, please re-enter.\n"
     ]
    }
   ],
   "source": [
    "get_quad_fn()"
   ]
  },
  {
   "cell_type": "markdown",
   "metadata": {},
   "source": [
    "2. Write a python program to find the sum of first ‘n’ natural numbers without using any loop. Ask user to input\n",
    "the value of ‘n’."
   ]
  },
  {
   "cell_type": "code",
   "execution_count": null,
   "metadata": {},
   "outputs": [],
   "source": [
    "n=int(input('Enter a natural number: '))\n",
    "n_sum=(n*(n+1))/2\n",
    "print(f\"Sum of first {n} natural numbers:\", n_sum)   \n"
   ]
  },
  {
   "cell_type": "code",
   "execution_count": null,
   "metadata": {},
   "outputs": [],
   "source": []
  },
  {
   "cell_type": "code",
   "execution_count": null,
   "metadata": {},
   "outputs": [],
   "source": []
  }
 ],
 "metadata": {
  "kernelspec": {
   "display_name": "Python 3",
   "language": "python",
   "name": "python3"
  },
  "language_info": {
   "codemirror_mode": {
    "name": "ipython",
    "version": 3
   },
   "file_extension": ".py",
   "mimetype": "text/x-python",
   "name": "python",
   "nbconvert_exporter": "python",
   "pygments_lexer": "ipython3",
   "version": "3.7.3"
  }
 },
 "nbformat": 4,
 "nbformat_minor": 2
}
