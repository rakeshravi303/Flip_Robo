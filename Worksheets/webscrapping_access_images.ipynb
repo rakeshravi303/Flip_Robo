{
 "cells": [
  {
   "cell_type": "markdown",
   "metadata": {},
   "source": [
    "Problem Statement: Write a python program to access the search bar and search button on images.google.com."
   ]
  },
  {
   "cell_type": "code",
   "execution_count": 1,
   "metadata": {},
   "outputs": [],
   "source": [
    "import requests\n",
    "from requests import get\n",
    "from selenium import webdriver\n",
    "from bs4 import BeautifulSoup"
   ]
  },
  {
   "cell_type": "code",
   "execution_count": 2,
   "metadata": {},
   "outputs": [],
   "source": [
    "# Define url and driver\n",
    "url = \"https://images.google.com/\"\n",
    "driver = webdriver.Chrome(\"chromedriver.exe\")"
   ]
  },
  {
   "cell_type": "code",
   "execution_count": 5,
   "metadata": {},
   "outputs": [],
   "source": [
    "driver.get(url) \n",
    "\n",
    "#fetching content of web page\n",
    "content = driver.page_source \n",
    "\n",
    "#parsing web page data using html parser\n",
    "soup = BeautifulSoup(content, \"html.parser\") \n",
    "\n",
    "#accessing the search box\n",
    "searchbox = driver.find_elements_by_xpath(\"//input[@class='gLFyf gsfi']\")[0]\n",
    "\n",
    "#adding value to input \n",
    "searchbox.send_keys(\"Covid-9\")\n",
    "\n",
    "#accessing search button\n",
    "searchbutton = driver.find_elements_by_xpath(\"//button[@class='Tg7LZd']\")[0]\n",
    "\n",
    "#clicking search button\n",
    "searchbutton.click()"
   ]
  },
  {
   "cell_type": "code",
   "execution_count": null,
   "metadata": {},
   "outputs": [],
   "source": []
  }
 ],
 "metadata": {
  "kernelspec": {
   "display_name": "Python 3",
   "language": "python",
   "name": "python3"
  },
  "language_info": {
   "codemirror_mode": {
    "name": "ipython",
    "version": 3
   },
   "file_extension": ".py",
   "mimetype": "text/x-python",
   "name": "python",
   "nbconvert_exporter": "python",
   "pygments_lexer": "ipython3",
   "version": "3.7.3"
  }
 },
 "nbformat": 4,
 "nbformat_minor": 2
}
