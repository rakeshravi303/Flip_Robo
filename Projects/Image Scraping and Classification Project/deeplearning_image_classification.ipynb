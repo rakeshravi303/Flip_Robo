{
 "cells": [
  {
   "cell_type": "code",
   "execution_count": 14,
   "metadata": {},
   "outputs": [],
   "source": [
    "import pandas as pd\n",
    "import tensorflow as tf\n",
    "from tensorflow.keras.layers import Conv2D\n",
    "from tensorflow.keras.preprocessing.image import ImageDataGenerator"
   ]
  },
  {
   "cell_type": "code",
   "execution_count": null,
   "metadata": {},
   "outputs": [],
   "source": []
  },
  {
   "cell_type": "code",
   "execution_count": 2,
   "metadata": {},
   "outputs": [],
   "source": [
    "train_datagen = ImageDataGenerator(rescale=1./255,\n",
    "                                shear_range=0.2,\n",
    "                                zoom_range=0.2)"
   ]
  },
  {
   "cell_type": "code",
   "execution_count": 3,
   "metadata": {},
   "outputs": [
    {
     "name": "stdout",
     "output_type": "stream",
     "text": [
      "Found 996 images belonging to 3 classes.\n",
      "Found 216 images belonging to 3 classes.\n"
     ]
    }
   ],
   "source": [
    "# Preprocessing the Train set\n",
    "training_set=train_datagen.flow_from_directory('D:/anaconda3/Machine_Learning/FlipRobo/Projects/Image Scraping and Classification Project/Train',\n",
    "                                              target_size=(64,64),\n",
    "                                               batch_size=32,\n",
    "                                               class_mode='categorical')\n",
    "\n",
    "\n",
    "# Preprocessing the Test set\n",
    "test_datagen=ImageDataGenerator(rescale=1./255)\n",
    "test_set=test_datagen.flow_from_directory('D:/anaconda3/Machine_Learning/FlipRobo/Projects/Image Scraping and Classification Project/Test',\n",
    "                                                 target_size=(64,64),\n",
    "                                               batch_size=32,\n",
    "                                               class_mode='categorical') "
   ]
  },
  {
   "cell_type": "code",
   "execution_count": 4,
   "metadata": {},
   "outputs": [],
   "source": [
    "# Part 2 - Building the CNN\n",
    "\n",
    "# Initialising the CNN\n",
    "cnn = tf.keras.models.Sequential()\n",
    "\n",
    "# Step-1 - Convolution\n",
    "cnn.add(tf.keras.layers.Conv2D(filters=32,padding='same',kernel_size=3,activation='relu',input_shape=[64,64,3]))\n",
    "\n",
    "# Step-2 Pooling\n",
    "cnn.add(tf.keras.layers.MaxPool2D(pool_size=2,strides=2))\n",
    "\n",
    "# Adding a second convolutional layer\n",
    "cnn.add(tf.keras.layers.Conv2D(filters=32,padding='same',kernel_size=3, activation='relu'))\n",
    "cnn.add(tf.keras.layers.MaxPool2D(pool_size=2, strides=2))\n",
    "\n",
    "# Step 3 - Flattening\n",
    "cnn.add(tf.keras.layers.Flatten())\n",
    "\n",
    "# Step 4 - Full Connection\n",
    "cnn.add(tf.keras.layers.Dense(units=128, activation='relu'))\n",
    "\n",
    "# Step 5 - Output Layer\n",
    "cnn.add(tf.keras.layers.Dense(units=3, activation='sigmoid'))"
   ]
  },
  {
   "cell_type": "code",
   "execution_count": 5,
   "metadata": {},
   "outputs": [
    {
     "name": "stdout",
     "output_type": "stream",
     "text": [
      "Model: \"sequential\"\n",
      "_________________________________________________________________\n",
      "Layer (type)                 Output Shape              Param #   \n",
      "=================================================================\n",
      "conv2d (Conv2D)              (None, 64, 64, 32)        896       \n",
      "_________________________________________________________________\n",
      "max_pooling2d (MaxPooling2D) (None, 32, 32, 32)        0         \n",
      "_________________________________________________________________\n",
      "conv2d_1 (Conv2D)            (None, 32, 32, 32)        9248      \n",
      "_________________________________________________________________\n",
      "max_pooling2d_1 (MaxPooling2 (None, 16, 16, 32)        0         \n",
      "_________________________________________________________________\n",
      "flatten (Flatten)            (None, 8192)              0         \n",
      "_________________________________________________________________\n",
      "dense (Dense)                (None, 128)               1048704   \n",
      "_________________________________________________________________\n",
      "dense_1 (Dense)              (None, 3)                 387       \n",
      "=================================================================\n",
      "Total params: 1,059,235\n",
      "Trainable params: 1,059,235\n",
      "Non-trainable params: 0\n",
      "_________________________________________________________________\n"
     ]
    }
   ],
   "source": [
    "cnn.summary()"
   ]
  },
  {
   "cell_type": "code",
   "execution_count": 11,
   "metadata": {},
   "outputs": [
    {
     "name": "stdout",
     "output_type": "stream",
     "text": [
      "Epoch 1/15\n",
      "32/32 [==============================] - 8s 220ms/step - loss: 0.2818 - accuracy: 0.8824 - val_loss: 0.2038 - val_accuracy: 0.9167\n",
      "Epoch 2/15\n",
      "32/32 [==============================] - 7s 208ms/step - loss: 0.2377 - accuracy: 0.8977 - val_loss: 0.2121 - val_accuracy: 0.9120\n",
      "Epoch 3/15\n",
      "32/32 [==============================] - 7s 210ms/step - loss: 0.2265 - accuracy: 0.9096 - val_loss: 0.1738 - val_accuracy: 0.9259\n",
      "Epoch 4/15\n",
      "32/32 [==============================] - 7s 222ms/step - loss: 0.2097 - accuracy: 0.9081 - val_loss: 0.2391 - val_accuracy: 0.8889\n",
      "Epoch 5/15\n",
      "32/32 [==============================] - 7s 231ms/step - loss: 0.2416 - accuracy: 0.8996 - val_loss: 0.2415 - val_accuracy: 0.9120\n",
      "Epoch 6/15\n",
      "32/32 [==============================] - 8s 235ms/step - loss: 0.2077 - accuracy: 0.9061 - val_loss: 0.1512 - val_accuracy: 0.9491\n",
      "Epoch 7/15\n",
      "32/32 [==============================] - 7s 223ms/step - loss: 0.1538 - accuracy: 0.9444 - val_loss: 0.1400 - val_accuracy: 0.9537\n",
      "Epoch 8/15\n",
      "32/32 [==============================] - 7s 225ms/step - loss: 0.1871 - accuracy: 0.9189 - val_loss: 0.2246 - val_accuracy: 0.8935\n",
      "Epoch 9/15\n",
      "32/32 [==============================] - 7s 225ms/step - loss: 0.1944 - accuracy: 0.9237 - val_loss: 0.1321 - val_accuracy: 0.9583\n",
      "Epoch 10/15\n",
      "32/32 [==============================] - 7s 224ms/step - loss: 0.1426 - accuracy: 0.9492 - val_loss: 0.1311 - val_accuracy: 0.9537\n",
      "Epoch 11/15\n",
      "32/32 [==============================] - 7s 223ms/step - loss: 0.1817 - accuracy: 0.9249 - val_loss: 0.1115 - val_accuracy: 0.9676\n",
      "Epoch 12/15\n",
      "32/32 [==============================] - 7s 223ms/step - loss: 0.1486 - accuracy: 0.9404 - val_loss: 0.1305 - val_accuracy: 0.9398\n",
      "Epoch 13/15\n",
      "32/32 [==============================] - 7s 221ms/step - loss: 0.1631 - accuracy: 0.9394 - val_loss: 0.1337 - val_accuracy: 0.9537\n",
      "Epoch 14/15\n",
      "32/32 [==============================] - 7s 223ms/step - loss: 0.1547 - accuracy: 0.9347 - val_loss: 0.1286 - val_accuracy: 0.9398\n",
      "Epoch 15/15\n",
      "32/32 [==============================] - 7s 222ms/step - loss: 0.1726 - accuracy: 0.9333 - val_loss: 0.1105 - val_accuracy: 0.9676\n"
     ]
    },
    {
     "data": {
      "text/plain": [
       "<tensorflow.python.keras.callbacks.History at 0x22b856a7eb0>"
      ]
     },
     "execution_count": 11,
     "metadata": {},
     "output_type": "execute_result"
    }
   ],
   "source": [
    "# Part 3 - Training the CNN\n",
    "\n",
    "# Compiling the CNN\n",
    "cnn.compile(optimizer = 'adam', loss = 'CategoricalCrossentropy', metrics = ['accuracy'])\n",
    "\n",
    "# Training the CNN on the Training set and evaluating it on the Test set\n",
    "cnn.fit(x = training_set, validation_data = test_set, epochs = 15)"
   ]
  },
  {
   "cell_type": "code",
   "execution_count": 12,
   "metadata": {},
   "outputs": [
    {
     "data": {
      "text/plain": [
       "{'loss': [0.26064619421958923,\n",
       "  0.2615688443183899,\n",
       "  0.2119840532541275,\n",
       "  0.22894203662872314,\n",
       "  0.22933447360992432,\n",
       "  0.21126459538936615,\n",
       "  0.18348754942417145,\n",
       "  0.19383451342582703,\n",
       "  0.17708265781402588,\n",
       "  0.17971794307231903,\n",
       "  0.18553659319877625,\n",
       "  0.15387941896915436,\n",
       "  0.15795521438121796,\n",
       "  0.16172172129154205,\n",
       "  0.15165682137012482],\n",
       " 'accuracy': [0.8965863585472107,\n",
       "  0.8805220723152161,\n",
       "  0.9146586060523987,\n",
       "  0.904618501663208,\n",
       "  0.9086345434188843,\n",
       "  0.904618501663208,\n",
       "  0.9257028102874756,\n",
       "  0.922690749168396,\n",
       "  0.9287148714065552,\n",
       "  0.9257028102874756,\n",
       "  0.9216867685317993,\n",
       "  0.935742974281311,\n",
       "  0.9427710771560669,\n",
       "  0.9327309131622314,\n",
       "  0.9427710771560669],\n",
       " 'val_loss': [0.20376698672771454,\n",
       "  0.21207141876220703,\n",
       "  0.1738329529762268,\n",
       "  0.2390599399805069,\n",
       "  0.24147339165210724,\n",
       "  0.15123051404953003,\n",
       "  0.14000782370567322,\n",
       "  0.22460639476776123,\n",
       "  0.13210336863994598,\n",
       "  0.13109304010868073,\n",
       "  0.1115226298570633,\n",
       "  0.13048666715621948,\n",
       "  0.13373088836669922,\n",
       "  0.12855997681617737,\n",
       "  0.11054855585098267],\n",
       " 'val_accuracy': [0.9166666865348816,\n",
       "  0.9120370149612427,\n",
       "  0.9259259104728699,\n",
       "  0.8888888955116272,\n",
       "  0.9120370149612427,\n",
       "  0.9490740895271301,\n",
       "  0.9537037014961243,\n",
       "  0.8935185074806213,\n",
       "  0.9583333134651184,\n",
       "  0.9537037014961243,\n",
       "  0.9675925970077515,\n",
       "  0.9398148059844971,\n",
       "  0.9537037014961243,\n",
       "  0.9398148059844971,\n",
       "  0.9675925970077515]}"
      ]
     },
     "execution_count": 12,
     "metadata": {},
     "output_type": "execute_result"
    }
   ],
   "source": [
    "cnn.history.history"
   ]
  },
  {
   "cell_type": "code",
   "execution_count": 16,
   "metadata": {},
   "outputs": [
    {
     "data": {
      "text/html": [
       "<div>\n",
       "<style scoped>\n",
       "    .dataframe tbody tr th:only-of-type {\n",
       "        vertical-align: middle;\n",
       "    }\n",
       "\n",
       "    .dataframe tbody tr th {\n",
       "        vertical-align: top;\n",
       "    }\n",
       "\n",
       "    .dataframe thead th {\n",
       "        text-align: right;\n",
       "    }\n",
       "</style>\n",
       "<table border=\"1\" class=\"dataframe\">\n",
       "  <thead>\n",
       "    <tr style=\"text-align: right;\">\n",
       "      <th></th>\n",
       "      <th>loss</th>\n",
       "      <th>accuracy</th>\n",
       "      <th>val_loss</th>\n",
       "      <th>val_accuracy</th>\n",
       "    </tr>\n",
       "  </thead>\n",
       "  <tbody>\n",
       "    <tr>\n",
       "      <th>0</th>\n",
       "      <td>0.260646</td>\n",
       "      <td>0.896586</td>\n",
       "      <td>0.203767</td>\n",
       "      <td>0.916667</td>\n",
       "    </tr>\n",
       "    <tr>\n",
       "      <th>1</th>\n",
       "      <td>0.261569</td>\n",
       "      <td>0.880522</td>\n",
       "      <td>0.212071</td>\n",
       "      <td>0.912037</td>\n",
       "    </tr>\n",
       "    <tr>\n",
       "      <th>2</th>\n",
       "      <td>0.211984</td>\n",
       "      <td>0.914659</td>\n",
       "      <td>0.173833</td>\n",
       "      <td>0.925926</td>\n",
       "    </tr>\n",
       "    <tr>\n",
       "      <th>3</th>\n",
       "      <td>0.228942</td>\n",
       "      <td>0.904619</td>\n",
       "      <td>0.239060</td>\n",
       "      <td>0.888889</td>\n",
       "    </tr>\n",
       "    <tr>\n",
       "      <th>4</th>\n",
       "      <td>0.229334</td>\n",
       "      <td>0.908635</td>\n",
       "      <td>0.241473</td>\n",
       "      <td>0.912037</td>\n",
       "    </tr>\n",
       "    <tr>\n",
       "      <th>5</th>\n",
       "      <td>0.211265</td>\n",
       "      <td>0.904619</td>\n",
       "      <td>0.151231</td>\n",
       "      <td>0.949074</td>\n",
       "    </tr>\n",
       "    <tr>\n",
       "      <th>6</th>\n",
       "      <td>0.183488</td>\n",
       "      <td>0.925703</td>\n",
       "      <td>0.140008</td>\n",
       "      <td>0.953704</td>\n",
       "    </tr>\n",
       "    <tr>\n",
       "      <th>7</th>\n",
       "      <td>0.193835</td>\n",
       "      <td>0.922691</td>\n",
       "      <td>0.224606</td>\n",
       "      <td>0.893519</td>\n",
       "    </tr>\n",
       "    <tr>\n",
       "      <th>8</th>\n",
       "      <td>0.177083</td>\n",
       "      <td>0.928715</td>\n",
       "      <td>0.132103</td>\n",
       "      <td>0.958333</td>\n",
       "    </tr>\n",
       "    <tr>\n",
       "      <th>9</th>\n",
       "      <td>0.179718</td>\n",
       "      <td>0.925703</td>\n",
       "      <td>0.131093</td>\n",
       "      <td>0.953704</td>\n",
       "    </tr>\n",
       "    <tr>\n",
       "      <th>10</th>\n",
       "      <td>0.185537</td>\n",
       "      <td>0.921687</td>\n",
       "      <td>0.111523</td>\n",
       "      <td>0.967593</td>\n",
       "    </tr>\n",
       "    <tr>\n",
       "      <th>11</th>\n",
       "      <td>0.153879</td>\n",
       "      <td>0.935743</td>\n",
       "      <td>0.130487</td>\n",
       "      <td>0.939815</td>\n",
       "    </tr>\n",
       "    <tr>\n",
       "      <th>12</th>\n",
       "      <td>0.157955</td>\n",
       "      <td>0.942771</td>\n",
       "      <td>0.133731</td>\n",
       "      <td>0.953704</td>\n",
       "    </tr>\n",
       "    <tr>\n",
       "      <th>13</th>\n",
       "      <td>0.161722</td>\n",
       "      <td>0.932731</td>\n",
       "      <td>0.128560</td>\n",
       "      <td>0.939815</td>\n",
       "    </tr>\n",
       "    <tr>\n",
       "      <th>14</th>\n",
       "      <td>0.151657</td>\n",
       "      <td>0.942771</td>\n",
       "      <td>0.110549</td>\n",
       "      <td>0.967593</td>\n",
       "    </tr>\n",
       "  </tbody>\n",
       "</table>\n",
       "</div>"
      ],
      "text/plain": [
       "        loss  accuracy  val_loss  val_accuracy\n",
       "0   0.260646  0.896586  0.203767      0.916667\n",
       "1   0.261569  0.880522  0.212071      0.912037\n",
       "2   0.211984  0.914659  0.173833      0.925926\n",
       "3   0.228942  0.904619  0.239060      0.888889\n",
       "4   0.229334  0.908635  0.241473      0.912037\n",
       "5   0.211265  0.904619  0.151231      0.949074\n",
       "6   0.183488  0.925703  0.140008      0.953704\n",
       "7   0.193835  0.922691  0.224606      0.893519\n",
       "8   0.177083  0.928715  0.132103      0.958333\n",
       "9   0.179718  0.925703  0.131093      0.953704\n",
       "10  0.185537  0.921687  0.111523      0.967593\n",
       "11  0.153879  0.935743  0.130487      0.939815\n",
       "12  0.157955  0.942771  0.133731      0.953704\n",
       "13  0.161722  0.932731  0.128560      0.939815\n",
       "14  0.151657  0.942771  0.110549      0.967593"
      ]
     },
     "execution_count": 16,
     "metadata": {},
     "output_type": "execute_result"
    }
   ],
   "source": [
    "losses = pd.DataFrame(cnn.history.history)\n",
    "losses"
   ]
  },
  {
   "cell_type": "code",
   "execution_count": 17,
   "metadata": {},
   "outputs": [
    {
     "data": {
      "text/plain": [
       "<matplotlib.axes._subplots.AxesSubplot at 0x22b92207820>"
      ]
     },
     "execution_count": 17,
     "metadata": {},
     "output_type": "execute_result"
    },
    {
     "data": {
      "image/png": "[encoded data removed]",
      "text/plain": [
       "<Figure size 432x288 with 1 Axes>"
      ]
     },
     "metadata": {
      "needs_background": "light"
     },
     "output_type": "display_data"
    }
   ],
   "source": [
    "losses.plot()"
   ]
  },
  {
   "cell_type": "code",
   "execution_count": 18,
   "metadata": {},
   "outputs": [],
   "source": [
    "# Save the model\n",
    "cnn.save('image_classification.h5')"
   ]
  },
  {
   "cell_type": "code",
   "execution_count": null,
   "metadata": {},
   "outputs": [],
   "source": []
  }
 ],
 "metadata": {
  "kernelspec": {
   "display_name": "Python 3",
   "language": "python",
   "name": "python3"
  },
  "language_info": {
   "codemirror_mode": {
    "name": "ipython",
    "version": 3
   },
   "file_extension": ".py",
   "mimetype": "text/x-python",
   "name": "python",
   "nbconvert_exporter": "python",
   "pygments_lexer": "ipython3",
   "version": "3.8.3"
  }
 },
 "nbformat": 4,
 "nbformat_minor": 4
}
