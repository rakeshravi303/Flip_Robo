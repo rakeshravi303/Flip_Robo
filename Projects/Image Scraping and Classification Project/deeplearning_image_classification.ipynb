{
 "cells": [
  {
   "cell_type": "code",
   "execution_count": 1,
   "metadata": {},
   "outputs": [],
   "source": [
    "import pandas as pd\n",
    "import tensorflow as tf\n",
    "from tensorflow.keras.layers import Conv2D\n",
    "from tensorflow.keras.preprocessing.image import ImageDataGenerator"
   ]
  },
  {
   "cell_type": "code",
   "execution_count": 2,
   "metadata": {},
   "outputs": [],
   "source": [
    "train_datagen = ImageDataGenerator(rescale=1./255,\n",
    "                                shear_range=0.2,\n",
    "                                zoom_range=0.2)"
   ]
  },
  {
   "cell_type": "code",
   "execution_count": 3,
   "metadata": {},
   "outputs": [
    {
     "name": "stdout",
     "output_type": "stream",
     "text": [
      "Found 996 images belonging to 3 classes.\n",
      "Found 216 images belonging to 3 classes.\n"
     ]
    }
   ],
   "source": [
    "# Preprocessing the Train set\n",
    "training_set=train_datagen.flow_from_directory('D:/anaconda3/Machine_Learning/FlipRobo/Projects/Image Scraping and Classification Project/Train',\n",
    "                                              target_size=(64,64),\n",
    "                                               batch_size=32,\n",
    "                                               class_mode='categorical')\n",
    "\n",
    "\n",
    "# Preprocessing the Test set\n",
    "test_datagen=ImageDataGenerator(rescale=1./255)\n",
    "test_set=test_datagen.flow_from_directory('D:/anaconda3/Machine_Learning/FlipRobo/Projects/Image Scraping and Classification Project/Test',\n",
    "                                                 target_size=(64,64),\n",
    "                                               batch_size=32,\n",
    "                                               class_mode='categorical') "
   ]
  },
  {
   "cell_type": "code",
   "execution_count": 4,
   "metadata": {},
   "outputs": [],
   "source": [
    "# Part 2 - Building the CNN\n",
    "\n",
    "# Initialising the CNN\n",
    "cnn = tf.keras.models.Sequential()\n",
    "\n",
    "# Step-1 - Convolution\n",
    "cnn.add(tf.keras.layers.Conv2D(filters=32,padding='same',kernel_size=3,activation='relu',input_shape=[64,64,3]))\n",
    "\n",
    "# Step-2 Pooling\n",
    "cnn.add(tf.keras.layers.MaxPool2D(pool_size=2,strides=2))\n",
    "\n",
    "# Adding a second convolutional layer\n",
    "cnn.add(tf.keras.layers.Conv2D(filters=32,padding='same',kernel_size=3, activation='relu'))\n",
    "cnn.add(tf.keras.layers.MaxPool2D(pool_size=2, strides=2))\n",
    "\n",
    "# Step 3 - Flattening\n",
    "cnn.add(tf.keras.layers.Flatten())\n",
    "\n",
    "# Step 4 - Full Connection\n",
    "cnn.add(tf.keras.layers.Dense(units=128, activation='relu'))\n",
    "\n",
    "# Step 5 - Output Layer\n",
    "cnn.add(tf.keras.layers.Dense(units=3, activation='softmax'))"
   ]
  },
  {
   "cell_type": "code",
   "execution_count": 5,
   "metadata": {},
   "outputs": [
    {
     "name": "stdout",
     "output_type": "stream",
     "text": [
      "Model: \"sequential\"\n",
      "_________________________________________________________________\n",
      "Layer (type)                 Output Shape              Param #   \n",
      "=================================================================\n",
      "conv2d (Conv2D)              (None, 64, 64, 32)        896       \n",
      "_________________________________________________________________\n",
      "max_pooling2d (MaxPooling2D) (None, 32, 32, 32)        0         \n",
      "_________________________________________________________________\n",
      "conv2d_1 (Conv2D)            (None, 32, 32, 32)        9248      \n",
      "_________________________________________________________________\n",
      "max_pooling2d_1 (MaxPooling2 (None, 16, 16, 32)        0         \n",
      "_________________________________________________________________\n",
      "flatten (Flatten)            (None, 8192)              0         \n",
      "_________________________________________________________________\n",
      "dense (Dense)                (None, 128)               1048704   \n",
      "_________________________________________________________________\n",
      "dense_1 (Dense)              (None, 3)                 387       \n",
      "=================================================================\n",
      "Total params: 1,059,235\n",
      "Trainable params: 1,059,235\n",
      "Non-trainable params: 0\n",
      "_________________________________________________________________\n"
     ]
    }
   ],
   "source": [
    "cnn.summary()"
   ]
  },
  {
   "cell_type": "code",
   "execution_count": 6,
   "metadata": {},
   "outputs": [
    {
     "name": "stdout",
     "output_type": "stream",
     "text": [
      "Epoch 1/15\n",
      "32/32 [==============================] - 6s 169ms/step - loss: 0.9420 - accuracy: 0.5662 - val_loss: 0.4772 - val_accuracy: 0.7361\n",
      "Epoch 2/15\n",
      "32/32 [==============================] - 4s 129ms/step - loss: 0.4142 - accuracy: 0.7999 - val_loss: 0.2918 - val_accuracy: 0.8750\n",
      "Epoch 3/15\n",
      "32/32 [==============================] - 6s 192ms/step - loss: 0.3370 - accuracy: 0.8523 - val_loss: 0.2515 - val_accuracy: 0.8935\n",
      "Epoch 4/15\n",
      "32/32 [==============================] - 7s 215ms/step - loss: 0.3205 - accuracy: 0.8697 - val_loss: 0.2791 - val_accuracy: 0.8796\n",
      "Epoch 5/15\n",
      "32/32 [==============================] - 7s 217ms/step - loss: 0.3066 - accuracy: 0.8608 - val_loss: 0.2676 - val_accuracy: 0.8843\n",
      "Epoch 6/15\n",
      "32/32 [==============================] - 7s 211ms/step - loss: 0.2569 - accuracy: 0.8807 - val_loss: 0.2336 - val_accuracy: 0.9028\n",
      "Epoch 7/15\n",
      "32/32 [==============================] - 7s 214ms/step - loss: 0.2751 - accuracy: 0.8902 - val_loss: 0.2194 - val_accuracy: 0.8981\n",
      "Epoch 8/15\n",
      "32/32 [==============================] - 6s 182ms/step - loss: 0.2772 - accuracy: 0.8731 - val_loss: 0.1890 - val_accuracy: 0.9074\n",
      "Epoch 9/15\n",
      "32/32 [==============================] - 5s 154ms/step - loss: 0.2409 - accuracy: 0.9086 - val_loss: 0.2708 - val_accuracy: 0.8704\n",
      "Epoch 10/15\n",
      "32/32 [==============================] - 7s 221ms/step - loss: 0.2772 - accuracy: 0.8910 - val_loss: 0.1635 - val_accuracy: 0.9259\n",
      "Epoch 11/15\n",
      "32/32 [==============================] - 7s 231ms/step - loss: 0.2101 - accuracy: 0.8943 - val_loss: 0.2043 - val_accuracy: 0.9120\n",
      "Epoch 12/15\n",
      "32/32 [==============================] - 7s 213ms/step - loss: 0.2591 - accuracy: 0.8905 - val_loss: 0.1677 - val_accuracy: 0.9213\n",
      "Epoch 13/15\n",
      "32/32 [==============================] - 7s 219ms/step - loss: 0.1939 - accuracy: 0.9248 - val_loss: 0.1447 - val_accuracy: 0.9306\n",
      "Epoch 14/15\n",
      "32/32 [==============================] - 7s 220ms/step - loss: 0.2196 - accuracy: 0.9066 - val_loss: 0.1388 - val_accuracy: 0.9537\n",
      "Epoch 15/15\n",
      "32/32 [==============================] - 8s 245ms/step - loss: 0.1920 - accuracy: 0.9145 - val_loss: 0.1374 - val_accuracy: 0.9398\n"
     ]
    },
    {
     "data": {
      "text/plain": [
       "<tensorflow.python.keras.callbacks.History at 0x23a52297d00>"
      ]
     },
     "execution_count": 6,
     "metadata": {},
     "output_type": "execute_result"
    }
   ],
   "source": [
    "# Part 3 - Training the CNN\n",
    "\n",
    "# Compiling the CNN\n",
    "cnn.compile(optimizer = 'adam', loss = 'CategoricalCrossentropy', metrics = ['accuracy'])\n",
    "\n",
    "# Training the CNN on the Training set and evaluating it on the Test set\n",
    "cnn.fit(x = training_set, validation_data = test_set, epochs = 15)"
   ]
  },
  {
   "cell_type": "code",
   "execution_count": 7,
   "metadata": {},
   "outputs": [
    {
     "data": {
      "text/plain": [
       "{'loss': [0.7376900315284729,\n",
       "  0.4122890830039978,\n",
       "  0.32380253076553345,\n",
       "  0.32363882660865784,\n",
       "  0.30926281213760376,\n",
       "  0.2732604146003723,\n",
       "  0.28154295682907104,\n",
       "  0.2614935636520386,\n",
       "  0.2759959101676941,\n",
       "  0.2525629699230194,\n",
       "  0.23137299716472626,\n",
       "  0.2415844053030014,\n",
       "  0.2099042385816574,\n",
       "  0.2186637669801712,\n",
       "  0.1947387456893921],\n",
       " 'accuracy': [0.6475903391838074,\n",
       "  0.8082329034805298,\n",
       "  0.858433723449707,\n",
       "  0.8594377636909485,\n",
       "  0.8604417443275452,\n",
       "  0.8724899888038635,\n",
       "  0.8845381736755371,\n",
       "  0.8835341334342957,\n",
       "  0.891566276550293,\n",
       "  0.8965863585472107,\n",
       "  0.8935742974281311,\n",
       "  0.8985943794250488,\n",
       "  0.9116466045379639,\n",
       "  0.9056224822998047,\n",
       "  0.9166666865348816],\n",
       " 'val_loss': [0.4772151708602905,\n",
       "  0.291754812002182,\n",
       "  0.25148215889930725,\n",
       "  0.2791193425655365,\n",
       "  0.2675796449184418,\n",
       "  0.23358453810214996,\n",
       "  0.2194141298532486,\n",
       "  0.18895761668682098,\n",
       "  0.2708404064178467,\n",
       "  0.1635059416294098,\n",
       "  0.20426100492477417,\n",
       "  0.16769620776176453,\n",
       "  0.14472883939743042,\n",
       "  0.13878296315670013,\n",
       "  0.137371227145195],\n",
       " 'val_accuracy': [0.7361111044883728,\n",
       "  0.875,\n",
       "  0.8935185074806213,\n",
       "  0.8796296119689941,\n",
       "  0.8842592835426331,\n",
       "  0.9027777910232544,\n",
       "  0.8981481194496155,\n",
       "  0.9074074029922485,\n",
       "  0.8703703880310059,\n",
       "  0.9259259104728699,\n",
       "  0.9120370149612427,\n",
       "  0.9212962985038757,\n",
       "  0.9305555820465088,\n",
       "  0.9537037014961243,\n",
       "  0.9398148059844971]}"
      ]
     },
     "execution_count": 7,
     "metadata": {},
     "output_type": "execute_result"
    }
   ],
   "source": [
    "cnn.history.history"
   ]
  },
  {
   "cell_type": "code",
   "execution_count": 8,
   "metadata": {},
   "outputs": [
    {
     "data": {
      "text/html": [
       "<div>\n",
       "<style scoped>\n",
       "    .dataframe tbody tr th:only-of-type {\n",
       "        vertical-align: middle;\n",
       "    }\n",
       "\n",
       "    .dataframe tbody tr th {\n",
       "        vertical-align: top;\n",
       "    }\n",
       "\n",
       "    .dataframe thead th {\n",
       "        text-align: right;\n",
       "    }\n",
       "</style>\n",
       "<table border=\"1\" class=\"dataframe\">\n",
       "  <thead>\n",
       "    <tr style=\"text-align: right;\">\n",
       "      <th></th>\n",
       "      <th>loss</th>\n",
       "      <th>accuracy</th>\n",
       "      <th>val_loss</th>\n",
       "      <th>val_accuracy</th>\n",
       "    </tr>\n",
       "  </thead>\n",
       "  <tbody>\n",
       "    <tr>\n",
       "      <th>0</th>\n",
       "      <td>0.737690</td>\n",
       "      <td>0.647590</td>\n",
       "      <td>0.477215</td>\n",
       "      <td>0.736111</td>\n",
       "    </tr>\n",
       "    <tr>\n",
       "      <th>1</th>\n",
       "      <td>0.412289</td>\n",
       "      <td>0.808233</td>\n",
       "      <td>0.291755</td>\n",
       "      <td>0.875000</td>\n",
       "    </tr>\n",
       "    <tr>\n",
       "      <th>2</th>\n",
       "      <td>0.323803</td>\n",
       "      <td>0.858434</td>\n",
       "      <td>0.251482</td>\n",
       "      <td>0.893519</td>\n",
       "    </tr>\n",
       "    <tr>\n",
       "      <th>3</th>\n",
       "      <td>0.323639</td>\n",
       "      <td>0.859438</td>\n",
       "      <td>0.279119</td>\n",
       "      <td>0.879630</td>\n",
       "    </tr>\n",
       "    <tr>\n",
       "      <th>4</th>\n",
       "      <td>0.309263</td>\n",
       "      <td>0.860442</td>\n",
       "      <td>0.267580</td>\n",
       "      <td>0.884259</td>\n",
       "    </tr>\n",
       "    <tr>\n",
       "      <th>5</th>\n",
       "      <td>0.273260</td>\n",
       "      <td>0.872490</td>\n",
       "      <td>0.233585</td>\n",
       "      <td>0.902778</td>\n",
       "    </tr>\n",
       "    <tr>\n",
       "      <th>6</th>\n",
       "      <td>0.281543</td>\n",
       "      <td>0.884538</td>\n",
       "      <td>0.219414</td>\n",
       "      <td>0.898148</td>\n",
       "    </tr>\n",
       "    <tr>\n",
       "      <th>7</th>\n",
       "      <td>0.261494</td>\n",
       "      <td>0.883534</td>\n",
       "      <td>0.188958</td>\n",
       "      <td>0.907407</td>\n",
       "    </tr>\n",
       "    <tr>\n",
       "      <th>8</th>\n",
       "      <td>0.275996</td>\n",
       "      <td>0.891566</td>\n",
       "      <td>0.270840</td>\n",
       "      <td>0.870370</td>\n",
       "    </tr>\n",
       "    <tr>\n",
       "      <th>9</th>\n",
       "      <td>0.252563</td>\n",
       "      <td>0.896586</td>\n",
       "      <td>0.163506</td>\n",
       "      <td>0.925926</td>\n",
       "    </tr>\n",
       "    <tr>\n",
       "      <th>10</th>\n",
       "      <td>0.231373</td>\n",
       "      <td>0.893574</td>\n",
       "      <td>0.204261</td>\n",
       "      <td>0.912037</td>\n",
       "    </tr>\n",
       "    <tr>\n",
       "      <th>11</th>\n",
       "      <td>0.241584</td>\n",
       "      <td>0.898594</td>\n",
       "      <td>0.167696</td>\n",
       "      <td>0.921296</td>\n",
       "    </tr>\n",
       "    <tr>\n",
       "      <th>12</th>\n",
       "      <td>0.209904</td>\n",
       "      <td>0.911647</td>\n",
       "      <td>0.144729</td>\n",
       "      <td>0.930556</td>\n",
       "    </tr>\n",
       "    <tr>\n",
       "      <th>13</th>\n",
       "      <td>0.218664</td>\n",
       "      <td>0.905622</td>\n",
       "      <td>0.138783</td>\n",
       "      <td>0.953704</td>\n",
       "    </tr>\n",
       "    <tr>\n",
       "      <th>14</th>\n",
       "      <td>0.194739</td>\n",
       "      <td>0.916667</td>\n",
       "      <td>0.137371</td>\n",
       "      <td>0.939815</td>\n",
       "    </tr>\n",
       "  </tbody>\n",
       "</table>\n",
       "</div>"
      ],
      "text/plain": [
       "        loss  accuracy  val_loss  val_accuracy\n",
       "0   0.737690  0.647590  0.477215      0.736111\n",
       "1   0.412289  0.808233  0.291755      0.875000\n",
       "2   0.323803  0.858434  0.251482      0.893519\n",
       "3   0.323639  0.859438  0.279119      0.879630\n",
       "4   0.309263  0.860442  0.267580      0.884259\n",
       "5   0.273260  0.872490  0.233585      0.902778\n",
       "6   0.281543  0.884538  0.219414      0.898148\n",
       "7   0.261494  0.883534  0.188958      0.907407\n",
       "8   0.275996  0.891566  0.270840      0.870370\n",
       "9   0.252563  0.896586  0.163506      0.925926\n",
       "10  0.231373  0.893574  0.204261      0.912037\n",
       "11  0.241584  0.898594  0.167696      0.921296\n",
       "12  0.209904  0.911647  0.144729      0.930556\n",
       "13  0.218664  0.905622  0.138783      0.953704\n",
       "14  0.194739  0.916667  0.137371      0.939815"
      ]
     },
     "execution_count": 8,
     "metadata": {},
     "output_type": "execute_result"
    }
   ],
   "source": [
    "losses = pd.DataFrame(cnn.history.history)\n",
    "losses"
   ]
  },
  {
   "cell_type": "code",
   "execution_count": 9,
   "metadata": {},
   "outputs": [
    {
     "data": {
      "text/plain": [
       "<matplotlib.axes._subplots.AxesSubplot at 0x23a5f2bc4f0>"
      ]
     },
     "execution_count": 9,
     "metadata": {},
     "output_type": "execute_result"
    },
    {
     "data": {
      "image/png": "[encoded data removed]",
      "text/plain": [
       "<Figure size 432x288 with 1 Axes>"
      ]
     },
     "metadata": {
      "needs_background": "light"
     },
     "output_type": "display_data"
    }
   ],
   "source": [
    "losses.plot()"
   ]
  },
  {
   "cell_type": "code",
   "execution_count": 10,
   "metadata": {},
   "outputs": [],
   "source": [
    "# Save the model\n",
    "cnn.save('image_classification.h5')"
   ]
  },
  {
   "cell_type": "code",
   "execution_count": 11,
   "metadata": {},
   "outputs": [],
   "source": [
    "# Part 4 - Making a single prediction\n",
    "import numpy as np\n",
    "from tensorflow.keras.preprocessing import image\n",
    "from tensorflow.keras.models import load_model\n",
    "\n",
    "model = load_model('image_classification.h5')\n",
    "test_image = image.load_img('D:/anaconda3/Machine_Learning/FlipRobo/Projects/Image Scraping and Classification Project/Test/Sarees/Img_27.jpeg', target_size = (64,64))\n",
    "test_image = image.img_to_array(test_image)\n",
    "test_image=test_image/255\n",
    "test_image = np.expand_dims(test_image, axis = 0)\n",
    "result = model.predict(test_image)"
   ]
  },
  {
   "cell_type": "code",
   "execution_count": 12,
   "metadata": {},
   "outputs": [
    {
     "data": {
      "text/plain": [
       "'Sarees'"
      ]
     },
     "execution_count": 12,
     "metadata": {},
     "output_type": "execute_result"
    }
   ],
   "source": [
    "class_names=['Jeans','Sarees','Trousers']\n",
    "class_names[np.argmax(result[0])]"
   ]
  },
  {
   "cell_type": "code",
   "execution_count": 13,
   "metadata": {},
   "outputs": [
    {
     "data": {
      "text/plain": [
       "'Jeans'"
      ]
     },
     "execution_count": 13,
     "metadata": {},
     "output_type": "execute_result"
    }
   ],
   "source": [
    "test_image = image.load_img('D:/anaconda3/Machine_Learning/FlipRobo/Projects/Image Scraping and Classification Project/Test/Jeans/Img_53.jpeg', target_size = (64,64))\n",
    "test_image = image.img_to_array(test_image)\n",
    "test_image=test_image/255\n",
    "test_image = np.expand_dims(test_image, axis = 0)\n",
    "result = model.predict(test_image)\n",
    "class_names[np.argmax(result[0])]"
   ]
  },
  {
   "cell_type": "code",
   "execution_count": 14,
   "metadata": {},
   "outputs": [
    {
     "data": {
      "text/plain": [
       "'Trousers'"
      ]
     },
     "execution_count": 14,
     "metadata": {},
     "output_type": "execute_result"
    }
   ],
   "source": [
    "test_image = image.load_img('D:/anaconda3/Machine_Learning/FlipRobo/Projects/Image Scraping and Classification Project/Test/Trousers/Img_55.jpeg', target_size = (64,64))\n",
    "test_image = image.img_to_array(test_image)\n",
    "test_image=test_image/255\n",
    "test_image = np.expand_dims(test_image, axis = 0)\n",
    "result = model.predict(test_image)\n",
    "class_names[np.argmax(result[0])]"
   ]
  },
  {
   "cell_type": "code",
   "execution_count": null,
   "metadata": {},
   "outputs": [],
   "source": []
  }
 ],
 "metadata": {
  "kernelspec": {
   "display_name": "Python 3",
   "language": "python",
   "name": "python3"
  },
  "language_info": {
   "codemirror_mode": {
    "name": "ipython",
    "version": 3
   },
   "file_extension": ".py",
   "mimetype": "text/x-python",
   "name": "python",
   "nbconvert_exporter": "python",
   "pygments_lexer": "ipython3",
   "version": "3.8.3"
  }
 },
 "nbformat": 4,
 "nbformat_minor": 4
}
