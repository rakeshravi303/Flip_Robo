{
 "cells": [
  {
   "cell_type": "markdown",
   "metadata": {},
   "source": [
    "#### Topic Modelling\n",
    "Collect randomly as many as news content from different fields for training. (thru any form, web scrape, pdf, newspaper etc.)\n",
    "#### Use case\n",
    "Collect randomly another set of content for test. \n",
    "Build topic modelling to understand the topics in the test data.\n",
    "\n"
   ]
  },
  {
   "cell_type": "code",
   "execution_count": 1,
   "metadata": {},
   "outputs": [],
   "source": [
    "import nltk\n",
    "import re\n",
    "import numpy as np\n",
    "import pandas as pd\n",
    "import glob\n",
    "\n",
    "# Gensim\n",
    "import gensim\n",
    "import gensim.corpora as corpora\n",
    "from gensim.utils import simple_preprocess\n",
    "\n",
    "from nltk.stem import WordNetLemmatizer, SnowballStemmer"
   ]
  },
  {
   "cell_type": "code",
   "execution_count": 2,
   "metadata": {},
   "outputs": [
    {
     "name": "stdout",
     "output_type": "stream",
     "text": [
      "['Vodafone wins Rs 22,000 cr tax arbitration suit against India; govt liability estimated around Rs 75 cr\\nThe Government of India\\'s liability will be restricted to about Rs 75 crore -- Rs 30 crore in cost and another Rs 45 crore in tax refund, sources with direct knowledge of the matter said\\nBritish telecom giant Vodafone Group plc on Friday won an arbitration against the Indian government over a demand for Rs 22,100 crore in taxes using retrospective legislation.\\n\\nAn international arbitration tribunal ruled that India\\'s demand in past taxes were in breach of fair treatment under a bilateral investment protection pact.\\n\\n\"The award is confidential but Vodafone can confirm that the tribunal has found (it) in Vodafone\\'s favour,\" Vodafone Group said in a statement. \"We are studying the lengthy documents and can make no further comment at this time.\"\\n\\nIt was not immediately known if the Indian government will abide by the arbitration award.\\n\\nThe Government of India\\'s liability will be restricted to about Rs 75 crore -- Rs 30 crore in cost and another Rs 45 crore in tax refund, sources with direct knowledge of the matter said.\\n\\nVodafone had before the arbitration tribunal challenged India\\'s usage of a 2012 legislation that gave it powers to retrospectively tax deals like Vodafone\\'s $11 billion acquisition of 67 percent stake in the mobile phone business owned by Hutchison Whampoa in 2007.\\n\\nIt challenged the demand of Rs 7,990 crore in capital gains taxes (Rs 22,100 crore after including interest and penalty) under the Netherlands-India Bilateral Investment Treaty (BIT).\\n\\nSources said the tax demand was on the UK-listed company and Vodafone\\'s India venture faced no liability.\\n\\nVodafone merged its India operations with billionaire Kumar Mangalam Birla\\'s conglomerate but the combined entity Vodafone Idea Ltd is facing a USD 7.8 billion bill in past statutory dues.\\n\\nTax authorities had in September 2007 served notice to Vodafone International Holdings BV (VIHBV) for its alleged failure to deduct withholding tax from consideration paid to the Hutchison Telecommunications International Ltd.\\n\\nVodafone challenged this in the Supreme Court, which in January 2012 set it aside, saying the transaction was not taxable in India and so the company had no obligation to withhold tax.\\n\\nIn May that year, Parliament passed the Finance Act 2012 that amended various provisions of the Income Tax Act 1961 with retrospective effect to tax any gain on transfer of shares in a non-Indian company which derives substantial value from underlying Indian assets.\\n\\nThe company was in January 2013 served a tax notice of Rs 14,200 crore after including interest on the principal amount. A year later, Vodafone challenged the tax demand under the Dutch BIT.\\n\\nSources said the company in April 2014 served the notice of arbitration after out-of-court dispute resolution talks failed.\\n\\nThe tax department in February 2016 served a demand notice of Rs 22,100 crore, including interest accruing since the date of the original demand.\\n\\nVodafone has always maintained that there is no liability and that it will \"continue to defend vigorously any allegation that VIHBV or\\n\\nVodafone India Ltd is liable to pay tax in connection with the transaction with Hutchison and will continue to exercise all rights to seek redress\".\\n\\nBesides Vodafone, the Indian government also used the retrospective tax legislation to seek Rs 10,247 crore from British oil explorer Cairn Energy Plc over a 2006 reorganisation of its Indian businesses.']\n"
     ]
    }
   ],
   "source": [
    "# Extracting news data\n",
    "docs_text=[]\n",
    "file = open('news.txt', mode='rt', encoding='utf-8')\n",
    "docs_text.append(file.read())\n",
    "file.close()\n",
    "print(docs_text)"
   ]
  },
  {
   "cell_type": "code",
   "execution_count": 3,
   "metadata": {},
   "outputs": [],
   "source": [
    "#creating instance for snowballstemmer\n",
    "stemmer = SnowballStemmer(\"english\")\n",
    "\n",
    "# writing function for the entire dataset\n",
    "def lemmatize_stemming(text):\n",
    "    return stemmer.stem(WordNetLemmatizer().lemmatize(text,pos='v'))\n",
    "\n",
    "#Tokenize and Lemmatize\n",
    "def preprocess(text):\n",
    "    result=[]\n",
    "    for token in gensim.utils.simple_preprocess(text):\n",
    "        if token not in gensim.parsing.preprocessing.STOPWORDS and len(token)>3:\n",
    "            result.append(lemmatize_stemming(token).lower())\n",
    "            \n",
    "    return result"
   ]
  },
  {
   "cell_type": "code",
   "execution_count": 4,
   "metadata": {},
   "outputs": [
    {
     "name": "stdout",
     "output_type": "stream",
     "text": [
      "[['vodafon', 'win', 'arbitr', 'suit', 'india', 'govt', 'liabil', 'estim', 'govern', 'india', 'liabil', 'restrict', 'crore', 'crore', 'cost', 'crore', 'refund', 'sourc', 'direct', 'knowledg', 'matter', 'say', 'british', 'telecom', 'giant', 'vodafon', 'group', 'friday', 'arbitr', 'indian', 'govern', 'demand', 'crore', 'tax', 'retrospect', 'legisl', 'intern', 'arbitr', 'tribun', 'rule', 'india', 'demand', 'past', 'tax', 'breach', 'fair', 'treatment', 'bilater', 'invest', 'protect', 'pact', 'award', 'confidenti', 'vodafon', 'confirm', 'tribun', 'vodafon', 'favour', 'vodafon', 'group', 'say', 'statement', 'studi', 'lengthi', 'document', 'comment', 'time', 'immedi', 'know', 'indian', 'govern', 'abid', 'arbitr', 'award', 'govern', 'india', 'liabil', 'restrict', 'crore', 'crore', 'cost', 'crore', 'refund', 'sourc', 'direct', 'knowledg', 'matter', 'say', 'vodafon', 'arbitr', 'tribun', 'challeng', 'india', 'usag', 'legisl', 'give', 'power', 'retrospect', 'deal', 'like', 'vodafon', 'billion', 'acquisit', 'percent', 'stake', 'mobil', 'phone', 'busi', 'own', 'hutchison', 'whampoa', 'challeng', 'demand', 'crore', 'capit', 'gain', 'tax', 'crore', 'includ', 'penalti', 'netherland', 'india', 'bilater', 'invest', 'treati', 'sourc', 'say', 'demand', 'list', 'compani', 'vodafon', 'india', 'ventur', 'face', 'liabil', 'vodafon', 'merg', 'india', 'oper', 'billionair', 'kumar', 'mangalam', 'birla', 'conglomer', 'combin', 'entiti', 'vodafon', 'idea', 'face', 'billion', 'past', 'statutori', 'due', 'author', 'septemb', 'serv', 'notic', 'vodafon', 'intern', 'hold', 'vihbv', 'alleg', 'failur', 'deduct', 'withhold', 'consider', 'pay', 'hutchison', 'intern', 'vodafon', 'challeng', 'suprem', 'court', 'januari', 'asid', 'say', 'transact', 'taxabl', 'india', 'compani', 'oblig', 'withhold', 'year', 'parliament', 'pass', 'financ', 'amend', 'provis', 'incom', 'retrospect', 'effect', 'gain', 'transfer', 'share', 'indian', 'compani', 'deriv', 'substanti', 'valu', 'underli', 'indian', 'asset', 'compani', 'januari', 'serv', 'notic', 'crore', 'includ', 'princip', 'year', 'later', 'vodafon', 'challeng', 'demand', 'dutch', 'sourc', 'say', 'compani', 'april', 'serv', 'notic', 'arbitr', 'court', 'disput', 'resolut', 'talk', 'fail', 'depart', 'februari', 'serv', 'demand', 'notic', 'crore', 'includ', 'accru', 'date', 'origin', 'demand', 'vodafon', 'maintain', 'liabil', 'continu', 'defend', 'vigor', 'alleg', 'vihbv', 'vodafon', 'india', 'liabl', 'connect', 'transact', 'hutchison', 'continu', 'exercis', 'right', 'seek', 'redress', 'vodafon', 'indian', 'govern', 'retrospect', 'legisl', 'seek', 'crore', 'british', 'explor', 'cairn', 'energi', 'reorganis', 'indian', 'busi']]\n"
     ]
    }
   ],
   "source": [
    "processed_docs = []\n",
    "for doc in docs_text:\n",
    "    processed_docs.append(preprocess(doc))\n",
    "print(processed_docs[:2]) "
   ]
  },
  {
   "cell_type": "code",
   "execution_count": 8,
   "metadata": {},
   "outputs": [],
   "source": [
    "#bag of words on the data set\n",
    "dictionary = corpora.Dictionary(processed_docs)"
   ]
  },
  {
   "cell_type": "code",
   "execution_count": 9,
   "metadata": {},
   "outputs": [
    {
     "name": "stdout",
     "output_type": "stream",
     "text": [
      "Dictionary(151 unique tokens: ['abid', 'accru', 'acquisit', 'alleg', 'amend']...)\n"
     ]
    }
   ],
   "source": [
    "print(dictionary) "
   ]
  },
  {
   "cell_type": "code",
   "execution_count": 10,
   "metadata": {},
   "outputs": [],
   "source": [
    "#Create the Bag-of-words model for each document i.e for each document we create a dictionary reporting how many\n",
    "#words and how many times those words appear. Save this to 'bow_corpus'\n",
    "bow_corpus = [dictionary.doc2bow(doc) for doc in processed_docs]"
   ]
  },
  {
   "cell_type": "code",
   "execution_count": 11,
   "metadata": {},
   "outputs": [
    {
     "name": "stdout",
     "output_type": "stream",
     "text": [
      "[[(0, 1), (1, 1), (2, 1), (3, 2), (4, 1), (5, 1), (6, 6), (7, 1), (8, 1), (9, 1), (10, 2), (11, 2), (12, 2), (13, 1), (14, 1), (15, 1), (16, 2), (17, 2), (18, 1), (19, 1), (20, 4), (21, 1), (22, 1), (23, 5), (24, 1), (25, 1), (26, 1), (27, 1), (28, 1), (29, 2), (30, 2), (31, 2), (32, 12), (33, 1), (34, 1), (35, 1), (36, 1), (37, 7), (38, 1), (39, 1), (40, 2), (41, 1), (42, 1), (43, 1), (44, 1), (45, 1), (46, 1), (47, 1), (48, 1), (49, 1), (50, 1), (51, 2), (52, 1), (53, 1), (54, 1), (55, 1), (56, 1), (57, 1), (58, 1), (59, 2), (60, 1), (61, 1), (62, 5), (63, 1), (64, 2), (65, 1), (66, 3), (67, 1), (68, 1), (69, 3), (70, 1), (71, 10), (72, 6), (73, 3), (74, 2), (75, 2), (76, 1), (77, 2), (78, 1), (79, 1), (80, 3), (81, 1), (82, 5), (83, 1), (84, 1), (85, 1), (86, 1), (87, 1), (88, 2), (89, 1), (90, 1), (91, 1), (92, 4), (93, 1), (94, 1), (95, 1), (96, 1), (97, 1), (98, 1), (99, 1), (100, 2), (101, 1), (102, 1), (103, 1), (104, 1), (105, 1), (106, 1), (107, 1), (108, 1), (109, 1), (110, 2), (111, 1), (112, 1), (113, 2), (114, 4), (115, 1), (116, 1), (117, 6), (118, 2), (119, 1), (120, 4), (121, 1), (122, 4), (123, 1), (124, 1), (125, 1), (126, 1), (127, 1), (128, 1), (129, 1), (130, 1), (131, 3), (132, 1), (133, 1), (134, 1), (135, 2), (136, 1), (137, 1), (138, 1), (139, 3), (140, 1), (141, 1), (142, 1), (143, 1), (144, 1), (145, 2), (146, 16), (147, 1), (148, 1), (149, 2), (150, 2)]]\n"
     ]
    }
   ],
   "source": [
    "#displaying the corpus saved\n",
    "print(bow_corpus)"
   ]
  },
  {
   "cell_type": "code",
   "execution_count": 13,
   "metadata": {},
   "outputs": [],
   "source": [
    "# creating the model for topic modelling\n",
    "lda_model =  gensim.models.ldamodel.LdaModel(bow_corpus, num_topics =20,id2word = dictionary,passes = 4,random_state=100,\n",
    "                                           update_every=1,)"
   ]
  },
  {
   "cell_type": "code",
   "execution_count": 14,
   "metadata": {},
   "outputs": [
    {
     "name": "stdout",
     "output_type": "stream",
     "text": [
      "Topic: 0 \n",
      "Words: 0.009*\"vodafon\" + 0.008*\"crore\" + 0.008*\"india\" + 0.008*\"demand\" + 0.008*\"indian\" + 0.007*\"arbitr\" + 0.007*\"challeng\" + 0.007*\"liabil\" + 0.007*\"compani\" + 0.007*\"govern\"\n",
      "\n",
      "\n",
      "Topic: 1 \n",
      "Words: 0.008*\"vodafon\" + 0.008*\"crore\" + 0.008*\"demand\" + 0.007*\"india\" + 0.007*\"arbitr\" + 0.007*\"say\" + 0.007*\"liabil\" + 0.007*\"compani\" + 0.007*\"indian\" + 0.007*\"govern\"\n",
      "\n",
      "\n",
      "Topic: 2 \n",
      "Words: 0.007*\"percent\" + 0.007*\"power\" + 0.007*\"pact\" + 0.007*\"parliament\" + 0.007*\"pass\" + 0.007*\"past\" + 0.007*\"pay\" + 0.007*\"penalti\" + 0.007*\"origin\" + 0.007*\"phone\"\n",
      "\n",
      "\n",
      "Topic: 3 \n",
      "Words: 0.007*\"percent\" + 0.007*\"power\" + 0.007*\"pact\" + 0.007*\"parliament\" + 0.007*\"pass\" + 0.007*\"past\" + 0.007*\"pay\" + 0.007*\"penalti\" + 0.007*\"origin\" + 0.007*\"phone\"\n",
      "\n",
      "\n",
      "Topic: 4 \n",
      "Words: 0.046*\"crore\" + 0.037*\"vodafon\" + 0.026*\"india\" + 0.022*\"indian\" + 0.021*\"demand\" + 0.021*\"say\" + 0.017*\"arbitr\" + 0.016*\"liabil\" + 0.015*\"tribun\" + 0.014*\"compani\"\n",
      "\n",
      "\n",
      "Topic: 5 \n",
      "Words: 0.009*\"vodafon\" + 0.009*\"crore\" + 0.008*\"india\" + 0.007*\"arbitr\" + 0.007*\"demand\" + 0.007*\"liabil\" + 0.007*\"say\" + 0.007*\"indian\" + 0.007*\"govern\" + 0.007*\"compani\"\n",
      "\n",
      "\n",
      "Topic: 6 \n",
      "Words: 0.007*\"percent\" + 0.007*\"power\" + 0.007*\"pact\" + 0.007*\"parliament\" + 0.007*\"pass\" + 0.007*\"past\" + 0.007*\"pay\" + 0.007*\"penalti\" + 0.007*\"origin\" + 0.007*\"phone\"\n",
      "\n",
      "\n",
      "Topic: 7 \n",
      "Words: 0.007*\"percent\" + 0.007*\"power\" + 0.007*\"pact\" + 0.007*\"parliament\" + 0.007*\"pass\" + 0.007*\"past\" + 0.007*\"pay\" + 0.007*\"penalti\" + 0.007*\"origin\" + 0.007*\"phone\"\n",
      "\n",
      "\n",
      "Topic: 8 \n",
      "Words: 0.007*\"vodafon\" + 0.007*\"crore\" + 0.007*\"india\" + 0.007*\"demand\" + 0.007*\"arbitr\" + 0.007*\"govern\" + 0.007*\"liabil\" + 0.007*\"retrospect\" + 0.007*\"say\" + 0.007*\"intern\"\n",
      "\n",
      "\n",
      "Topic: 9 \n",
      "Words: 0.015*\"vodafon\" + 0.012*\"crore\" + 0.011*\"india\" + 0.010*\"demand\" + 0.010*\"indian\" + 0.009*\"say\" + 0.009*\"liabil\" + 0.009*\"govern\" + 0.009*\"sourc\" + 0.009*\"compani\"\n",
      "\n",
      "\n",
      "Topic: 10 \n",
      "Words: 0.058*\"vodafon\" + 0.042*\"crore\" + 0.037*\"india\" + 0.025*\"demand\" + 0.022*\"arbitr\" + 0.021*\"indian\" + 0.021*\"say\" + 0.018*\"compani\" + 0.018*\"govern\" + 0.018*\"liabil\"\n",
      "\n",
      "\n",
      "Topic: 11 \n",
      "Words: 0.007*\"percent\" + 0.007*\"power\" + 0.007*\"pact\" + 0.007*\"parliament\" + 0.007*\"pass\" + 0.007*\"past\" + 0.007*\"pay\" + 0.007*\"penalti\" + 0.007*\"origin\" + 0.007*\"phone\"\n",
      "\n",
      "\n",
      "Topic: 12 \n",
      "Words: 0.008*\"vodafon\" + 0.007*\"crore\" + 0.007*\"india\" + 0.007*\"say\" + 0.007*\"arbitr\" + 0.007*\"demand\" + 0.007*\"compani\" + 0.007*\"govern\" + 0.007*\"sourc\" + 0.007*\"notic\"\n",
      "\n",
      "\n",
      "Topic: 13 \n",
      "Words: 0.022*\"vodafon\" + 0.017*\"crore\" + 0.012*\"arbitr\" + 0.012*\"india\" + 0.012*\"say\" + 0.011*\"indian\" + 0.011*\"demand\" + 0.011*\"liabil\" + 0.010*\"compani\" + 0.010*\"notic\"\n",
      "\n",
      "\n",
      "Topic: 14 \n",
      "Words: 0.016*\"vodafon\" + 0.014*\"crore\" + 0.012*\"india\" + 0.011*\"indian\" + 0.011*\"liabil\" + 0.011*\"demand\" + 0.010*\"say\" + 0.010*\"retrospect\" + 0.009*\"govern\" + 0.009*\"notic\"\n",
      "\n",
      "\n",
      "Topic: 15 \n",
      "Words: 0.021*\"vodafon\" + 0.020*\"crore\" + 0.016*\"india\" + 0.014*\"demand\" + 0.012*\"liabil\" + 0.011*\"say\" + 0.011*\"indian\" + 0.010*\"govern\" + 0.010*\"arbitr\" + 0.009*\"compani\"\n",
      "\n",
      "\n",
      "Topic: 16 \n",
      "Words: 0.007*\"percent\" + 0.007*\"power\" + 0.007*\"pact\" + 0.007*\"parliament\" + 0.007*\"pass\" + 0.007*\"past\" + 0.007*\"pay\" + 0.007*\"penalti\" + 0.007*\"origin\" + 0.007*\"phone\"\n",
      "\n",
      "\n",
      "Topic: 17 \n",
      "Words: 0.010*\"vodafon\" + 0.009*\"crore\" + 0.008*\"say\" + 0.008*\"liabil\" + 0.008*\"demand\" + 0.008*\"india\" + 0.008*\"indian\" + 0.007*\"compani\" + 0.007*\"arbitr\" + 0.007*\"govern\"\n",
      "\n",
      "\n",
      "Topic: 18 \n",
      "Words: 0.031*\"vodafon\" + 0.024*\"crore\" + 0.017*\"india\" + 0.016*\"demand\" + 0.015*\"say\" + 0.015*\"arbitr\" + 0.013*\"indian\" + 0.012*\"challeng\" + 0.012*\"govern\" + 0.010*\"compani\"\n",
      "\n",
      "\n",
      "Topic: 19 \n",
      "Words: 0.014*\"vodafon\" + 0.012*\"crore\" + 0.010*\"india\" + 0.009*\"arbitr\" + 0.009*\"say\" + 0.008*\"compani\" + 0.008*\"liabil\" + 0.008*\"demand\" + 0.008*\"indian\" + 0.008*\"sourc\"\n",
      "\n",
      "\n"
     ]
    }
   ],
   "source": [
    "for idx, topic in lda_model.print_topics():\n",
    "    print(\"Topic: {} \\nWords: {}\".format(idx, topic ))\n",
    "    print(\"\\n\")"
   ]
  },
  {
   "cell_type": "code",
   "execution_count": 15,
   "metadata": {},
   "outputs": [
    {
     "name": "stdout",
     "output_type": "stream",
     "text": [
      "['₹20,000 cr retro tax case: Vodafone wins arbitration against India\\n2 min read . Updated: 25 Sep 2020, 07:19 PM IST\\nEdited By J. Jagannath\\nPermanent Court of Arbitration in The Hague holds Indian tax authorities in breach of fair treatment doctrine\\n\\'Govt to study the arbitration case award in Vodafone International Holding BV,\\' says Ministry of Finance\\nTopics\\nVodafone\\nNew Delhi: UK telecom major Vodafone Group Plc on Friday won an international arbitration against India over retrospective tax demand of ₹20,000 crore. The Permanent Court of Arbitration in The Hague ruled that conduct of Income Tax Department is in breach of \\'fair and equitable\\' treatment.\\n\\nVodafone was represented at The Hague by DMD Advocates.\\n\\nThe tribunal ruled that the Indian government\\'s imposition of a tax liability on Vodafone is in breach of the investment treaty agreement between India and the Netherlands, Reuters reported while quoting a source.\\n\\nThe tribunal, in its ruling, said the government must cease seeking the dues from Vodafone and should also pay 4.3 million pounds ($5.47 million) to the company as partial compensation for its legal costs, the source said.\\n\\n\"The Government will be studying the award and all its aspects carefully in consultation with our counsels. After such consultations, the Government will consider all options and take a decision on further course of action including legal remedies before appropriate fora,\" said the Ministry of Finance.\\n\\nSumit Mangal, Partner, L&L Partners said: “This is a landmark victory for Vodafone and will set a good precedent for others to take international tax issues to international arbitration. It also resolves the controversy that tax issues could be contested under Investment Treaties or Bilateral Investment Promotion and Investment Agreement (BIPA) entered into by India with other countries. Arbitral Tribunal has held that investment of Vodafone in India was not accorded fair and equitable treatment as was guaranteed under India-Netherlands BIPA. In addition to granting relief to Vodafone in directing Indian Government to not recover the disputed tax dues from Vodafone, it also directed Indian Government to reimburse legal costs to Vodafone.\"\\n\\nSpurred by the news, on Friday Vodafone Idea\\'s scrip on BSE closed 12% higher at ₹10.20.\\n\\nThe tax dispute stems from Vodafone\\'s acquisition of the Indian mobile assets from Hutchison Whampoa in 2007. The government said Vodafone was liable to pay taxes on the acquisition, which the company contested.\\n\\nA tax demand of ₹11,000 crore was raised by UPA-II government related to Vodafone’s $11 billion acquisition of Hutchison Telecom stake.\\n\\nThe government had said then, that the Hutchison-Vodafone deal was liable for tax deduction at source (TDS) under the Income Tax (IT) Act, and since Vodafone had not deducted the tax at source, the government raised the demand, which has expanded to ₹20,000 crore including interest and penalties.\\n\\nWhile the Supreme Court subsequently quashed the demand on January 20, 2012, the government amended its law retrospectively, putting the liability back on Vodafone Group.\\n\\nIn April 2014, Vodafone initiated arbitration proceedings against India.\\n\\nIndia is entangled in more than a dozen international arbitration cases against companies, including Cairn Energy, over retrospective tax claims and cancellation of contracts. The exchequer could end up paying billions of dollars in damages if it loses.\\n\\nWith inputs from Reuters']\n"
     ]
    }
   ],
   "source": [
    "# Extracting test data \n",
    "test_set=[]  \n",
    "\n",
    "file = open('news_test.txt', mode='rt', encoding='utf-8')\n",
    "test_set.append(file.read())\n",
    "file.close()\n",
    "print(test_set)"
   ]
  },
  {
   "cell_type": "code",
   "execution_count": 16,
   "metadata": {},
   "outputs": [
    {
     "name": "stdout",
     "output_type": "stream",
     "text": [
      "[['retro', 'case', 'vodafon', 'win', 'arbitr', 'india', 'read', 'updat', 'edit', 'jagannath', 'perman', 'court', 'arbitr', 'hagu', 'hold', 'indian', 'author', 'breach', 'fair', 'treatment', 'doctrin', 'govt', 'studi', 'arbitr', 'case', 'award', 'vodafon', 'intern', 'hold', 'say', 'ministri', 'financ', 'topic', 'vodafon', 'delhi', 'telecom', 'major', 'vodafon', 'group', 'friday', 'intern', 'arbitr', 'india', 'retrospect', 'demand', 'crore', 'perman', 'court', 'arbitr', 'hagu', 'rule', 'conduct', 'incom', 'depart', 'breach', 'fair', 'equit', 'treatment', 'vodafon', 'repres', 'hagu', 'advoc', 'tribun', 'rule', 'indian', 'govern', 'imposit', 'liabil', 'vodafon', 'breach', 'invest', 'treati', 'agreement', 'india', 'netherland', 'reuter', 'report', 'quot', 'sourc', 'tribun', 'rule', 'say', 'govern', 'ceas', 'seek', 'due', 'vodafon', 'million', 'pound', 'million', 'compani', 'partial', 'compens', 'legal', 'cost', 'sourc', 'say', 'govern', 'studi', 'award', 'aspect', 'care', 'consult', 'counsel', 'consult', 'govern', 'consid', 'option', 'decis', 'cours', 'action', 'includ', 'legal', 'remedi', 'appropri', 'fora', 'say', 'ministri', 'financ', 'sumit', 'mangal', 'partner', 'partner', 'say', 'landmark', 'victori', 'vodafon', 'good', 'preced', 'intern', 'issu', 'intern', 'arbitr', 'resolv', 'controversi', 'issu', 'contest', 'invest', 'treati', 'bilater', 'invest', 'promot', 'invest', 'agreement', 'bipa', 'enter', 'india', 'countri', 'arbitr', 'tribun', 'hold', 'invest', 'vodafon', 'india', 'accord', 'fair', 'equit', 'treatment', 'guarante', 'india', 'netherland', 'bipa', 'addit', 'grant', 'relief', 'vodafon', 'direct', 'indian', 'govern', 'recov', 'disput', 'due', 'vodafon', 'direct', 'indian', 'govern', 'reimburs', 'legal', 'cost', 'vodafon', 'spur', 'news', 'friday', 'vodafon', 'idea', 'scrip', 'close', 'higher', 'disput', 'stem', 'vodafon', 'acquisit', 'indian', 'mobil', 'asset', 'hutchison', 'whampoa', 'govern', 'say', 'vodafon', 'liabl', 'tax', 'acquisit', 'compani', 'contest', 'demand', 'crore', 'rais', 'govern', 'relat', 'vodafon', 'billion', 'acquisit', 'hutchison', 'telecom', 'stake', 'govern', 'say', 'hutchison', 'vodafon', 'deal', 'liabl', 'deduct', 'sourc', 'incom', 'vodafon', 'deduct', 'sourc', 'govern', 'rais', 'demand', 'expand', 'crore', 'includ', 'penalti', 'suprem', 'court', 'subsequ', 'quash', 'demand', 'januari', 'govern', 'amend', 'retrospect', 'put', 'liabil', 'vodafon', 'group', 'april', 'vodafon', 'initi', 'arbitr', 'proceed', 'india', 'india', 'entangl', 'dozen', 'intern', 'arbitr', 'case', 'compani', 'includ', 'cairn', 'energi', 'retrospect', 'claim', 'cancel', 'contract', 'exchequ', 'pay', 'billion', 'dollar', 'damag', 'lose', 'input', 'reuter']]\n"
     ]
    }
   ],
   "source": [
    "# processing for the test_set\n",
    "processed_test=[]\n",
    "for doc in test_set:\n",
    "    processed_test.append(preprocess(doc))\n",
    "print(processed_test[:2])  "
   ]
  },
  {
   "cell_type": "code",
   "execution_count": 17,
   "metadata": {},
   "outputs": [
    {
     "name": "stdout",
     "output_type": "stream",
     "text": [
      "Topic: 0 \n",
      "Words: 0.009*\"vodafon\" + 0.008*\"crore\" + 0.008*\"india\" + 0.008*\"demand\" + 0.008*\"indian\" + 0.007*\"arbitr\" + 0.007*\"challeng\" + 0.007*\"liabil\" + 0.007*\"compani\" + 0.007*\"govern\"\n",
      "\n",
      "\n",
      "Topic: 1 \n",
      "Words: 0.008*\"vodafon\" + 0.008*\"crore\" + 0.008*\"demand\" + 0.007*\"india\" + 0.007*\"arbitr\" + 0.007*\"say\" + 0.007*\"liabil\" + 0.007*\"compani\" + 0.007*\"indian\" + 0.007*\"govern\"\n",
      "\n",
      "\n",
      "Topic: 2 \n",
      "Words: 0.007*\"percent\" + 0.007*\"power\" + 0.007*\"pact\" + 0.007*\"parliament\" + 0.007*\"pass\" + 0.007*\"past\" + 0.007*\"pay\" + 0.007*\"penalti\" + 0.007*\"origin\" + 0.007*\"phone\"\n",
      "\n",
      "\n",
      "Topic: 3 \n",
      "Words: 0.007*\"percent\" + 0.007*\"power\" + 0.007*\"pact\" + 0.007*\"parliament\" + 0.007*\"pass\" + 0.007*\"past\" + 0.007*\"pay\" + 0.007*\"penalti\" + 0.007*\"origin\" + 0.007*\"phone\"\n",
      "\n",
      "\n",
      "Topic: 4 \n",
      "Words: 0.046*\"crore\" + 0.037*\"vodafon\" + 0.026*\"india\" + 0.022*\"indian\" + 0.021*\"demand\" + 0.021*\"say\" + 0.017*\"arbitr\" + 0.016*\"liabil\" + 0.015*\"tribun\" + 0.014*\"compani\"\n",
      "\n",
      "\n",
      "Topic: 5 \n",
      "Words: 0.009*\"vodafon\" + 0.009*\"crore\" + 0.008*\"india\" + 0.007*\"arbitr\" + 0.007*\"demand\" + 0.007*\"liabil\" + 0.007*\"say\" + 0.007*\"indian\" + 0.007*\"govern\" + 0.007*\"compani\"\n",
      "\n",
      "\n",
      "Topic: 6 \n",
      "Words: 0.007*\"percent\" + 0.007*\"power\" + 0.007*\"pact\" + 0.007*\"parliament\" + 0.007*\"pass\" + 0.007*\"past\" + 0.007*\"pay\" + 0.007*\"penalti\" + 0.007*\"origin\" + 0.007*\"phone\"\n",
      "\n",
      "\n",
      "Topic: 7 \n",
      "Words: 0.007*\"percent\" + 0.007*\"power\" + 0.007*\"pact\" + 0.007*\"parliament\" + 0.007*\"pass\" + 0.007*\"past\" + 0.007*\"pay\" + 0.007*\"penalti\" + 0.007*\"origin\" + 0.007*\"phone\"\n",
      "\n",
      "\n",
      "Topic: 8 \n",
      "Words: 0.007*\"vodafon\" + 0.007*\"crore\" + 0.007*\"india\" + 0.007*\"demand\" + 0.007*\"arbitr\" + 0.007*\"govern\" + 0.007*\"liabil\" + 0.007*\"retrospect\" + 0.007*\"say\" + 0.007*\"intern\"\n",
      "\n",
      "\n",
      "Topic: 9 \n",
      "Words: 0.015*\"vodafon\" + 0.012*\"crore\" + 0.011*\"india\" + 0.010*\"demand\" + 0.010*\"indian\" + 0.009*\"say\" + 0.009*\"liabil\" + 0.009*\"govern\" + 0.009*\"sourc\" + 0.009*\"compani\"\n",
      "\n",
      "\n",
      "Topic: 10 \n",
      "Words: 0.058*\"vodafon\" + 0.042*\"crore\" + 0.037*\"india\" + 0.025*\"demand\" + 0.022*\"arbitr\" + 0.021*\"indian\" + 0.021*\"say\" + 0.018*\"compani\" + 0.018*\"govern\" + 0.018*\"liabil\"\n",
      "\n",
      "\n",
      "Topic: 11 \n",
      "Words: 0.007*\"percent\" + 0.007*\"power\" + 0.007*\"pact\" + 0.007*\"parliament\" + 0.007*\"pass\" + 0.007*\"past\" + 0.007*\"pay\" + 0.007*\"penalti\" + 0.007*\"origin\" + 0.007*\"phone\"\n",
      "\n",
      "\n",
      "Topic: 12 \n",
      "Words: 0.008*\"vodafon\" + 0.007*\"crore\" + 0.007*\"india\" + 0.007*\"say\" + 0.007*\"arbitr\" + 0.007*\"demand\" + 0.007*\"compani\" + 0.007*\"govern\" + 0.007*\"sourc\" + 0.007*\"notic\"\n",
      "\n",
      "\n",
      "Topic: 13 \n",
      "Words: 0.022*\"vodafon\" + 0.017*\"crore\" + 0.012*\"arbitr\" + 0.012*\"india\" + 0.012*\"say\" + 0.011*\"indian\" + 0.011*\"demand\" + 0.011*\"liabil\" + 0.010*\"compani\" + 0.010*\"notic\"\n",
      "\n",
      "\n",
      "Topic: 14 \n",
      "Words: 0.016*\"vodafon\" + 0.014*\"crore\" + 0.012*\"india\" + 0.011*\"indian\" + 0.011*\"liabil\" + 0.011*\"demand\" + 0.010*\"say\" + 0.010*\"retrospect\" + 0.009*\"govern\" + 0.009*\"notic\"\n",
      "\n",
      "\n",
      "Topic: 15 \n",
      "Words: 0.021*\"vodafon\" + 0.020*\"crore\" + 0.016*\"india\" + 0.014*\"demand\" + 0.012*\"liabil\" + 0.011*\"say\" + 0.011*\"indian\" + 0.010*\"govern\" + 0.010*\"arbitr\" + 0.009*\"compani\"\n",
      "\n",
      "\n",
      "Topic: 16 \n",
      "Words: 0.007*\"percent\" + 0.007*\"power\" + 0.007*\"pact\" + 0.007*\"parliament\" + 0.007*\"pass\" + 0.007*\"past\" + 0.007*\"pay\" + 0.007*\"penalti\" + 0.007*\"origin\" + 0.007*\"phone\"\n",
      "\n",
      "\n",
      "Topic: 17 \n",
      "Words: 0.010*\"vodafon\" + 0.009*\"crore\" + 0.008*\"say\" + 0.008*\"liabil\" + 0.008*\"demand\" + 0.008*\"india\" + 0.008*\"indian\" + 0.007*\"compani\" + 0.007*\"arbitr\" + 0.007*\"govern\"\n",
      "\n",
      "\n",
      "Topic: 18 \n",
      "Words: 0.031*\"vodafon\" + 0.024*\"crore\" + 0.017*\"india\" + 0.016*\"demand\" + 0.015*\"say\" + 0.015*\"arbitr\" + 0.013*\"indian\" + 0.012*\"challeng\" + 0.012*\"govern\" + 0.010*\"compani\"\n",
      "\n",
      "\n",
      "Topic: 19 \n",
      "Words: 0.014*\"vodafon\" + 0.012*\"crore\" + 0.010*\"india\" + 0.009*\"arbitr\" + 0.009*\"say\" + 0.008*\"compani\" + 0.008*\"liabil\" + 0.008*\"demand\" + 0.008*\"indian\" + 0.008*\"sourc\"\n",
      "\n",
      "\n"
     ]
    }
   ],
   "source": [
    "for idx, topic in lda_model.print_topics():\n",
    "    print(\"Topic: {} \\nWords: {}\".format(idx, topic ))\n",
    "    print(\"\\n\")"
   ]
  },
  {
   "cell_type": "code",
   "execution_count": null,
   "metadata": {},
   "outputs": [],
   "source": []
  }
 ],
 "metadata": {
  "kernelspec": {
   "display_name": "Python 3",
   "language": "python",
   "name": "python3"
  },
  "language_info": {
   "codemirror_mode": {
    "name": "ipython",
    "version": 3
   },
   "file_extension": ".py",
   "mimetype": "text/x-python",
   "name": "python",
   "nbconvert_exporter": "python",
   "pygments_lexer": "ipython3",
   "version": "3.7.3"
  }
 },
 "nbformat": 4,
 "nbformat_minor": 2
}
